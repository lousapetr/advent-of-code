{
 "cells": [
  {
   "cell_type": "code",
   "execution_count": null,
   "metadata": {},
   "outputs": [],
   "source": [
    "import plotly.express as px\n",
    "import pandas as pd"
   ]
  },
  {
   "cell_type": "code",
   "execution_count": null,
   "metadata": {},
   "outputs": [],
   "source": [
    "df = pd.read_csv(\"inputs/23_output.csv\", delimiter=\",\", index_col=0, header=0)\n",
    "df"
   ]
  },
  {
   "cell_type": "code",
   "execution_count": null,
   "metadata": {},
   "outputs": [],
   "source": [
    "px.line(df[df[\"id\"] % 50 == 0], x=\"x\", y=\"y\", color=\"id\", width=800, height=600)"
   ]
  },
  {
   "cell_type": "code",
   "execution_count": null,
   "metadata": {},
   "outputs": [],
   "source": [
    "fig = px.scatter(\n",
    "    df[df[\"id\"] % 1 == 0],\n",
    "    x=\"x\",\n",
    "    y=\"y\",\n",
    "    color=\"id\",\n",
    "    animation_frame=\"round\",\n",
    "    width=800,\n",
    "    height=600,\n",
    "    range_x=[df[\"x\"].min() - 5, df[\"x\"].max() + 5],\n",
    "    range_y=[df[\"y\"].min() - 5, df[\"y\"].max() + 5],\n",
    "    # render_mode='webgl'\n",
    ")\n",
    "fig.layout.updatemenus[0].buttons[0].args[1][\"frame\"][\"duration\"] = 20  # noqa\n",
    "fig.layout.updatemenus[0].buttons[0].args[1][\"transition\"][\"duration\"] = 0\n",
    "fig.show()"
   ]
  }
 ],
 "metadata": {
  "kernelspec": {
   "display_name": "advent_of_code_2022",
   "language": "python",
   "name": "python3"
  },
  "language_info": {
   "codemirror_mode": {
    "name": "ipython",
    "version": 3
   },
   "file_extension": ".py",
   "mimetype": "text/x-python",
   "name": "python",
   "nbconvert_exporter": "python",
   "pygments_lexer": "ipython3",
   "version": "3.8.15 (default, Nov 24 2022, 15:19:38) \n[GCC 11.2.0]"
  },
  "vscode": {
   "interpreter": {
    "hash": "65fab7255e44e7577649a8948adc48ee416d94b543b704d41d976dd1183426a6"
   }
  }
 },
 "nbformat": 4,
 "nbformat_minor": 2
}
